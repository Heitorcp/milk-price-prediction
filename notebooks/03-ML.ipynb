{
 "cells": [
  {
   "cell_type": "markdown",
   "id": "45450777",
   "metadata": {},
   "source": [
    "# ML Approach"
   ]
  },
  {
   "cell_type": "code",
   "execution_count": 15,
   "id": "3cb5ee97",
   "metadata": {},
   "outputs": [],
   "source": [
    "import pandas as pd \n",
    "from plotnine import (ggplot, aes, geom_line,facet_grid, theme_bw, labs)\n",
    "from plotnine.options import set_option\n",
    "\n",
    "import numpy as np\n",
    "import matplotlib.pyplot as plt\n",
    "import seaborn as sns \n",
    "\n",
    "from sklearn.linear_model import LinearRegression, BayesianRidge\n",
    "from sklearn.ensemble import RandomForestRegressor\n",
    "\n",
    "from mlforecast import MLForecast \n",
    "\n",
    "from utilsforecast.plotting import plot_series \n",
    "from utilsforecast.evaluation import evaluate \n",
    "from utilsforecast.losses import *"
   ]
  },
  {
   "cell_type": "code",
   "execution_count": 16,
   "id": "a9c9f490",
   "metadata": {},
   "outputs": [],
   "source": [
    "#Reading the data\n",
    "df = pd.read_csv(\"../data/tidy_data.csv\", parse_dates=[0])"
   ]
  },
  {
   "cell_type": "code",
   "execution_count": 17,
   "id": "a6f5dbea",
   "metadata": {},
   "outputs": [],
   "source": [
    "TARGET = 'farmgate_milk_price'"
   ]
  },
  {
   "cell_type": "markdown",
   "id": "68fa6d78",
   "metadata": {},
   "source": [
    "## Data Splitting"
   ]
  },
  {
   "cell_type": "code",
   "execution_count": 18,
   "id": "4d086907",
   "metadata": {},
   "outputs": [],
   "source": [
    "#split the data such as the last 12 months are for validation\n",
    "def train_valid_split(df:pd.DataFrame):\n",
    "    train_df = df.iloc[:-12, :]\n",
    "    valid_df = df.iloc[df.shape[0]-12:, :] \n",
    "\n",
    "    return train_df, valid_df"
   ]
  },
  {
   "cell_type": "markdown",
   "id": "41e8d375",
   "metadata": {},
   "source": [
    "## Pre-processing"
   ]
  },
  {
   "cell_type": "code",
   "execution_count": 19,
   "id": "7988ebb3",
   "metadata": {},
   "outputs": [],
   "source": [
    "class Preprocess:\n",
    "\n",
    "    def __init__(self, df: pd.DataFrame, date_col:str, target_col:str):\n",
    "        self.df = df  \n",
    "        self._raw = self.df.copy() \n",
    "        self.date_col = date_col \n",
    "        self.target_col = target_col \n",
    "\n",
    "    def __rename_columns(self):\n",
    "        df_preprocessed = self.df.rename(columns={self.date_col: 'ds', self.target_col: 'y'}) \n",
    "        return df_preprocessed \n",
    "\n",
    "    def _create_id(self): \n",
    "        self.df.insert(0, 'unique_id', 0)\n",
    "\n",
    "    def drop_nulls(self):\n",
    "        self.df.dropna(axis=0, inplace=True) \n",
    "    \n",
    "    def _preprocess(self):        \n",
    "        self._create_id()\n",
    "        self.drop_nulls()\n",
    "        df_preprocessed = self.__rename_columns() \n",
    "        return df_preprocessed"
   ]
  },
  {
   "cell_type": "code",
   "execution_count": 20,
   "id": "398eaeb4",
   "metadata": {},
   "outputs": [],
   "source": [
    "engine = Preprocess(df, date_col='date', target_col='farmgate_milk_price') \n",
    "df_preprocessed = engine._preprocess() \n",
    "\n",
    "train_df, valid_df = train_valid_split(df_preprocessed)"
   ]
  },
  {
   "cell_type": "code",
   "execution_count": 21,
   "id": "1af4ca5c",
   "metadata": {},
   "outputs": [],
   "source": [
    "#remove first 5 rows from Df \n",
    "train_df = train_df.iloc[5:, :]"
   ]
  },
  {
   "cell_type": "markdown",
   "id": "9ebe2d7a",
   "metadata": {},
   "source": [
    "## ML Models : Linear Regression, Random Forest and Bayesian Ridge"
   ]
  },
  {
   "cell_type": "code",
   "execution_count": 22,
   "id": "72baa426",
   "metadata": {},
   "outputs": [
    {
     "name": "stderr",
     "output_type": "stream",
     "text": [
      "c:\\Users\\heito\\Desktop\\projects\\personal\\milk-prediction\\.venv\\Lib\\site-packages\\mlforecast\\core.py:185: UserWarning: Setting num_threads to 1.\n"
     ]
    }
   ],
   "source": [
    "MODELS = [LinearRegression(), RandomForestRegressor(), BayesianRidge()]\n",
    "\n",
    "mf = MLForecast(models=MODELS,\n",
    "                freq='MS',\n",
    "                num_threads=-1) "
   ]
  },
  {
   "cell_type": "code",
   "execution_count": 23,
   "id": "8b4b1ba4",
   "metadata": {},
   "outputs": [],
   "source": [
    "model = mf.fit(train_df, static_features=[], fitted=True)"
   ]
  },
  {
   "cell_type": "markdown",
   "id": "c1fd2692",
   "metadata": {},
   "source": [
    "### Prediction on Validation Set"
   ]
  },
  {
   "cell_type": "code",
   "execution_count": 24,
   "id": "8083ad6a",
   "metadata": {},
   "outputs": [],
   "source": [
    "X_valid = valid_df.drop(columns=['y']) \n",
    "y_valid = valid_df['y'] \n",
    "\n",
    "y_preds = model.predict(12, X_df=X_valid)"
   ]
  },
  {
   "cell_type": "markdown",
   "id": "a7dd636a",
   "metadata": {},
   "source": [
    "## Evaluation"
   ]
  },
  {
   "cell_type": "code",
   "execution_count": null,
   "id": "5e96da9b",
   "metadata": {},
   "outputs": [],
   "source": [
    "#add y to predictions for evaluation\n",
    "y_preds['y'] = y_valid.values"
   ]
  },
  {
   "cell_type": "code",
   "execution_count": 26,
   "id": "a517200d",
   "metadata": {},
   "outputs": [
    {
     "data": {
      "text/html": [
       "<div>\n",
       "<style scoped>\n",
       "    .dataframe tbody tr th:only-of-type {\n",
       "        vertical-align: middle;\n",
       "    }\n",
       "\n",
       "    .dataframe tbody tr th {\n",
       "        vertical-align: top;\n",
       "    }\n",
       "\n",
       "    .dataframe thead th {\n",
       "        text-align: right;\n",
       "    }\n",
       "</style>\n",
       "<table border=\"1\" class=\"dataframe\">\n",
       "  <thead>\n",
       "    <tr style=\"text-align: right;\">\n",
       "      <th></th>\n",
       "      <th>unique_id</th>\n",
       "      <th>metric</th>\n",
       "      <th>LinearRegression</th>\n",
       "      <th>RandomForestRegressor</th>\n",
       "      <th>BayesianRidge</th>\n",
       "    </tr>\n",
       "  </thead>\n",
       "  <tbody>\n",
       "    <tr>\n",
       "      <th>0</th>\n",
       "      <td>0</td>\n",
       "      <td>bias</td>\n",
       "      <td>0.058678</td>\n",
       "      <td>0.003084</td>\n",
       "      <td>0.059674</td>\n",
       "    </tr>\n",
       "    <tr>\n",
       "      <th>1</th>\n",
       "      <td>0</td>\n",
       "      <td>mae</td>\n",
       "      <td>0.078254</td>\n",
       "      <td>0.124297</td>\n",
       "      <td>0.068028</td>\n",
       "    </tr>\n",
       "    <tr>\n",
       "      <th>2</th>\n",
       "      <td>0</td>\n",
       "      <td>rmse</td>\n",
       "      <td>0.105199</td>\n",
       "      <td>0.142435</td>\n",
       "      <td>0.093183</td>\n",
       "    </tr>\n",
       "  </tbody>\n",
       "</table>\n",
       "</div>"
      ],
      "text/plain": [
       "   unique_id metric  LinearRegression  RandomForestRegressor  BayesianRidge\n",
       "0          0   bias          0.058678               0.003084       0.059674\n",
       "1          0    mae          0.078254               0.124297       0.068028\n",
       "2          0   rmse          0.105199               0.142435       0.093183"
      ]
     },
     "execution_count": 26,
     "metadata": {},
     "output_type": "execute_result"
    }
   ],
   "source": [
    "evaluate(y_preds, models=[obj.__class__.__name__ for obj in MODELS], metrics=[bias, mae, rmse])"
   ]
  },
  {
   "cell_type": "markdown",
   "id": "41023963",
   "metadata": {},
   "source": [
    "From our evaluation, we can see that the plain **Linear Regression** as we had already seen on notebook `02-Regression.ipynb` turns out to be one of the best models as long as the **Bayesian Ridge Regression**.\n",
    "\n",
    "With that in mind, we can visualize some of our predictions in validation set."
   ]
  },
  {
   "cell_type": "markdown",
   "id": "f0bf442c",
   "metadata": {},
   "source": [
    "## Visualizing Predictions"
   ]
  },
  {
   "cell_type": "code",
   "execution_count": 27,
   "id": "4264058c",
   "metadata": {},
   "outputs": [
    {
     "data": {
      "image/png": "[encoded data removed]",
      "text/plain": [
       "<Figure size 1600x350 with 1 Axes>"
      ]
     },
     "execution_count": 27,
     "metadata": {},
     "output_type": "execute_result"
    }
   ],
   "source": [
    "plt.style.use(\"seaborn-v0_8-whitegrid\")\n",
    "plot_series(forecasts_df=y_preds, plot_random=False, engine='matplotlib')"
   ]
  },
  {
   "cell_type": "markdown",
   "id": "09aaeb82",
   "metadata": {},
   "source": [
    "We can notice that all models sort of miss to approximate really well the behaviour of the validation set in the first four months. After that, "
   ]
  },
  {
   "cell_type": "markdown",
   "id": "93744cdc",
   "metadata": {},
   "source": [
    "## Saving an artefact of the model"
   ]
  },
  {
   "cell_type": "markdown",
   "id": "ce4503a8",
   "metadata": {},
   "source": [
    "When we get into the prediction phase we'll have to use this fitted model to predict our future dataframe with the values from 2025. \n",
    "\n",
    "That being said, we can train our model with the data from 2015 to 2024 - we no longer need to set-aside a validation set - and save its parameters so we can reuse it later on, without having to refit a new model."
   ]
  },
  {
   "cell_type": "code",
   "execution_count": 10,
   "id": "a2ff61cc",
   "metadata": {},
   "outputs": [],
   "source": [
    "engine = Preprocess(df, date_col='date', target_col='farmgate_milk_price') \n",
    "df_new = engine._preprocess() \n",
    "\n",
    "#remove the rows from 2014 \n",
    "df_new = df_new.iloc[5:, :]"
   ]
  },
  {
   "cell_type": "code",
   "execution_count": 11,
   "id": "509d0be3",
   "metadata": {},
   "outputs": [
    {
     "data": {
      "text/html": [
       "<div>\n",
       "<style scoped>\n",
       "    .dataframe tbody tr th:only-of-type {\n",
       "        vertical-align: middle;\n",
       "    }\n",
       "\n",
       "    .dataframe tbody tr th {\n",
       "        vertical-align: top;\n",
       "    }\n",
       "\n",
       "    .dataframe thead th {\n",
       "        text-align: right;\n",
       "    }\n",
       "</style>\n",
       "<table border=\"1\" class=\"dataframe\">\n",
       "  <thead>\n",
       "    <tr style=\"text-align: right;\">\n",
       "      <th></th>\n",
       "      <th>unique_id</th>\n",
       "      <th>ds</th>\n",
       "      <th>milk_production</th>\n",
       "      <th>imports</th>\n",
       "      <th>exports</th>\n",
       "      <th>total_supply</th>\n",
       "      <th>population</th>\n",
       "      <th>per_capita_supply</th>\n",
       "      <th>unemployment</th>\n",
       "      <th>wage_mass</th>\n",
       "      <th>uht_milk_industry</th>\n",
       "      <th>uht_milk_market</th>\n",
       "      <th>y</th>\n",
       "    </tr>\n",
       "  </thead>\n",
       "  <tbody>\n",
       "    <tr>\n",
       "      <th>96</th>\n",
       "      <td>0</td>\n",
       "      <td>2015-01-01</td>\n",
       "      <td>2207.717</td>\n",
       "      <td>76.124591</td>\n",
       "      <td>7.841312</td>\n",
       "      <td>2276.000278</td>\n",
       "      <td>201.607386</td>\n",
       "      <td>11.289270</td>\n",
       "      <td>0.069</td>\n",
       "      <td>165165.0</td>\n",
       "      <td>1.568627</td>\n",
       "      <td>2.415308</td>\n",
       "      <td>0.8382</td>\n",
       "    </tr>\n",
       "    <tr>\n",
       "      <th>97</th>\n",
       "      <td>0</td>\n",
       "      <td>2015-02-01</td>\n",
       "      <td>1899.716</td>\n",
       "      <td>63.763030</td>\n",
       "      <td>18.751395</td>\n",
       "      <td>1944.727635</td>\n",
       "      <td>201.740096</td>\n",
       "      <td>9.639768</td>\n",
       "      <td>0.075</td>\n",
       "      <td>165635.0</td>\n",
       "      <td>1.697815</td>\n",
       "      <td>2.350578</td>\n",
       "      <td>0.8554</td>\n",
       "    </tr>\n",
       "    <tr>\n",
       "      <th>98</th>\n",
       "      <td>0</td>\n",
       "      <td>2015-03-01</td>\n",
       "      <td>2027.962</td>\n",
       "      <td>94.259803</td>\n",
       "      <td>35.319605</td>\n",
       "      <td>2086.902199</td>\n",
       "      <td>201.872805</td>\n",
       "      <td>10.337708</td>\n",
       "      <td>0.080</td>\n",
       "      <td>165516.0</td>\n",
       "      <td>2.018438</td>\n",
       "      <td>2.377374</td>\n",
       "      <td>0.8942</td>\n",
       "    </tr>\n",
       "    <tr>\n",
       "      <th>99</th>\n",
       "      <td>0</td>\n",
       "      <td>2015-04-01</td>\n",
       "      <td>1851.024</td>\n",
       "      <td>93.138128</td>\n",
       "      <td>24.001814</td>\n",
       "      <td>1920.160314</td>\n",
       "      <td>202.005514</td>\n",
       "      <td>9.505485</td>\n",
       "      <td>0.081</td>\n",
       "      <td>161719.0</td>\n",
       "      <td>1.976786</td>\n",
       "      <td>2.519066</td>\n",
       "      <td>0.9334</td>\n",
       "    </tr>\n",
       "    <tr>\n",
       "      <th>100</th>\n",
       "      <td>0</td>\n",
       "      <td>2015-05-01</td>\n",
       "      <td>1886.178</td>\n",
       "      <td>97.944205</td>\n",
       "      <td>17.471481</td>\n",
       "      <td>1966.650725</td>\n",
       "      <td>202.138224</td>\n",
       "      <td>9.729237</td>\n",
       "      <td>0.083</td>\n",
       "      <td>162437.0</td>\n",
       "      <td>2.049296</td>\n",
       "      <td>2.602447</td>\n",
       "      <td>0.9537</td>\n",
       "    </tr>\n",
       "    <tr>\n",
       "      <th>...</th>\n",
       "      <td>...</td>\n",
       "      <td>...</td>\n",
       "      <td>...</td>\n",
       "      <td>...</td>\n",
       "      <td>...</td>\n",
       "      <td>...</td>\n",
       "      <td>...</td>\n",
       "      <td>...</td>\n",
       "      <td>...</td>\n",
       "      <td>...</td>\n",
       "      <td>...</td>\n",
       "      <td>...</td>\n",
       "      <td>...</td>\n",
       "    </tr>\n",
       "    <tr>\n",
       "      <th>211</th>\n",
       "      <td>0</td>\n",
       "      <td>2024-08-01</td>\n",
       "      <td>2113.325</td>\n",
       "      <td>182.746394</td>\n",
       "      <td>4.064448</td>\n",
       "      <td>2292.006946</td>\n",
       "      <td>212.653524</td>\n",
       "      <td>10.778128</td>\n",
       "      <td>0.066</td>\n",
       "      <td>329597.0</td>\n",
       "      <td>4.413439</td>\n",
       "      <td>5.269147</td>\n",
       "      <td>2.7607</td>\n",
       "    </tr>\n",
       "    <tr>\n",
       "      <th>212</th>\n",
       "      <td>0</td>\n",
       "      <td>2024-09-01</td>\n",
       "      <td>2104.908</td>\n",
       "      <td>182.145888</td>\n",
       "      <td>4.946605</td>\n",
       "      <td>2282.107283</td>\n",
       "      <td>212.723298</td>\n",
       "      <td>10.728055</td>\n",
       "      <td>0.064</td>\n",
       "      <td>331920.0</td>\n",
       "      <td>4.856938</td>\n",
       "      <td>5.339753</td>\n",
       "      <td>2.8657</td>\n",
       "    </tr>\n",
       "    <tr>\n",
       "      <th>213</th>\n",
       "      <td>0</td>\n",
       "      <td>2024-10-01</td>\n",
       "      <td>2198.885</td>\n",
       "      <td>203.342972</td>\n",
       "      <td>4.438911</td>\n",
       "      <td>2397.789061</td>\n",
       "      <td>212.793072</td>\n",
       "      <td>11.268173</td>\n",
       "      <td>0.062</td>\n",
       "      <td>335354.0</td>\n",
       "      <td>4.452080</td>\n",
       "      <td>5.410238</td>\n",
       "      <td>2.8065</td>\n",
       "    </tr>\n",
       "    <tr>\n",
       "      <th>214</th>\n",
       "      <td>0</td>\n",
       "      <td>2024-11-01</td>\n",
       "      <td>2227.416</td>\n",
       "      <td>204.272884</td>\n",
       "      <td>4.789603</td>\n",
       "      <td>2426.899280</td>\n",
       "      <td>212.862846</td>\n",
       "      <td>11.401235</td>\n",
       "      <td>0.061</td>\n",
       "      <td>338086.0</td>\n",
       "      <td>4.105220</td>\n",
       "      <td>5.304197</td>\n",
       "      <td>2.6374</td>\n",
       "    </tr>\n",
       "    <tr>\n",
       "      <th>215</th>\n",
       "      <td>0</td>\n",
       "      <td>2024-12-01</td>\n",
       "      <td>2328.034</td>\n",
       "      <td>194.443121</td>\n",
       "      <td>5.436259</td>\n",
       "      <td>2517.040863</td>\n",
       "      <td>212.932620</td>\n",
       "      <td>11.820833</td>\n",
       "      <td>0.062</td>\n",
       "      <td>351063.0</td>\n",
       "      <td>3.920316</td>\n",
       "      <td>5.142934</td>\n",
       "      <td>2.5805</td>\n",
       "    </tr>\n",
       "  </tbody>\n",
       "</table>\n",
       "<p>120 rows × 13 columns</p>\n",
       "</div>"
      ],
      "text/plain": [
       "     unique_id         ds  milk_production     imports    exports  \\\n",
       "96           0 2015-01-01         2207.717   76.124591   7.841312   \n",
       "97           0 2015-02-01         1899.716   63.763030  18.751395   \n",
       "98           0 2015-03-01         2027.962   94.259803  35.319605   \n",
       "99           0 2015-04-01         1851.024   93.138128  24.001814   \n",
       "100          0 2015-05-01         1886.178   97.944205  17.471481   \n",
       "..         ...        ...              ...         ...        ...   \n",
       "211          0 2024-08-01         2113.325  182.746394   4.064448   \n",
       "212          0 2024-09-01         2104.908  182.145888   4.946605   \n",
       "213          0 2024-10-01         2198.885  203.342972   4.438911   \n",
       "214          0 2024-11-01         2227.416  204.272884   4.789603   \n",
       "215          0 2024-12-01         2328.034  194.443121   5.436259   \n",
       "\n",
       "     total_supply  population  per_capita_supply  unemployment  wage_mass  \\\n",
       "96    2276.000278  201.607386          11.289270         0.069   165165.0   \n",
       "97    1944.727635  201.740096           9.639768         0.075   165635.0   \n",
       "98    2086.902199  201.872805          10.337708         0.080   165516.0   \n",
       "99    1920.160314  202.005514           9.505485         0.081   161719.0   \n",
       "100   1966.650725  202.138224           9.729237         0.083   162437.0   \n",
       "..            ...         ...                ...           ...        ...   \n",
       "211   2292.006946  212.653524          10.778128         0.066   329597.0   \n",
       "212   2282.107283  212.723298          10.728055         0.064   331920.0   \n",
       "213   2397.789061  212.793072          11.268173         0.062   335354.0   \n",
       "214   2426.899280  212.862846          11.401235         0.061   338086.0   \n",
       "215   2517.040863  212.932620          11.820833         0.062   351063.0   \n",
       "\n",
       "     uht_milk_industry  uht_milk_market       y  \n",
       "96            1.568627         2.415308  0.8382  \n",
       "97            1.697815         2.350578  0.8554  \n",
       "98            2.018438         2.377374  0.8942  \n",
       "99            1.976786         2.519066  0.9334  \n",
       "100           2.049296         2.602447  0.9537  \n",
       "..                 ...              ...     ...  \n",
       "211           4.413439         5.269147  2.7607  \n",
       "212           4.856938         5.339753  2.8657  \n",
       "213           4.452080         5.410238  2.8065  \n",
       "214           4.105220         5.304197  2.6374  \n",
       "215           3.920316         5.142934  2.5805  \n",
       "\n",
       "[120 rows x 13 columns]"
      ]
     },
     "execution_count": 11,
     "metadata": {},
     "output_type": "execute_result"
    }
   ],
   "source": [
    "df_new"
   ]
  },
  {
   "cell_type": "markdown",
   "id": "bd493dcf",
   "metadata": {},
   "source": [
    "## Model Fitting"
   ]
  },
  {
   "cell_type": "markdown",
   "id": "331bb06a",
   "metadata": {},
   "source": [
    "We'll just keep the Linear Regression and the Bayesian Ridge which end up being the best models. \n"
   ]
  },
  {
   "cell_type": "code",
   "execution_count": 12,
   "id": "878a4b13",
   "metadata": {},
   "outputs": [
    {
     "name": "stderr",
     "output_type": "stream",
     "text": [
      "c:\\Users\\heito\\Desktop\\projects\\personal\\milk-prediction\\.venv\\Lib\\site-packages\\mlforecast\\core.py:185: UserWarning: Setting num_threads to 1.\n"
     ]
    }
   ],
   "source": [
    "MODELS = [LinearRegression(), BayesianRidge()]\n",
    "\n",
    "mf = MLForecast(models=MODELS,\n",
    "                freq='MS',\n",
    "                num_threads=-1) "
   ]
  },
  {
   "cell_type": "code",
   "execution_count": 13,
   "id": "19182383",
   "metadata": {},
   "outputs": [],
   "source": [
    "final_model = mf.fit(df_new, static_features=[], fitted=True)"
   ]
  },
  {
   "cell_type": "code",
   "execution_count": 14,
   "id": "cd79ba41",
   "metadata": {},
   "outputs": [],
   "source": [
    "final_model.save(\"../models\")"
   ]
  }
 ],
 "metadata": {
  "kernelspec": {
   "display_name": "milk-prediction",
   "language": "python",
   "name": "python3"
  },
  "language_info": {
   "codemirror_mode": {
    "name": "ipython",
    "version": 3
   },
   "file_extension": ".py",
   "mimetype": "text/x-python",
   "name": "python",
   "nbconvert_exporter": "python",
   "pygments_lexer": "ipython3",
   "version": "3.13.3"
  }
 },
 "nbformat": 4,
 "nbformat_minor": 5
}
