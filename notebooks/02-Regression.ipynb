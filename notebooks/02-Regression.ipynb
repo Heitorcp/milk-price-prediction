{
 "cells": [
  {
   "cell_type": "markdown",
   "id": "4e7e32a5",
   "metadata": {},
   "source": [
    "# Regression Approach"
   ]
  },
  {
   "cell_type": "markdown",
   "id": "aedee854",
   "metadata": {},
   "source": [
    "## Overview"
   ]
  },
  {
   "cell_type": "markdown",
   "id": "ae6a1665",
   "metadata": {},
   "source": [
    "When we're dealing with Regressions we are basically trying to estimate the **Expected Mean Coditional on the regressors** of our target variable."
   ]
  },
  {
   "cell_type": "code",
   "execution_count": 2,
   "id": "58090cca",
   "metadata": {},
   "outputs": [],
   "source": [
    "import pandas as pd \n",
    "import numpy as np \n",
    "import statsmodels.api as sm \n",
    "import statsmodels.formula.api as smf  \n",
    "\n",
    "from sklearn.metrics import root_mean_squared_error as rmse\n",
    "\n",
    "from plotnine import (ggplot, aes, geom_line,facet_grid, theme_bw, labs)\n",
    "from plotnine.options import set_option"
   ]
  },
  {
   "cell_type": "markdown",
   "id": "cdf9b451",
   "metadata": {},
   "source": [
    "### Utils"
   ]
  },
  {
   "cell_type": "code",
   "execution_count": 3,
   "id": "f66160db",
   "metadata": {},
   "outputs": [],
   "source": [
    "def bias(y_true, y_pred):\n",
    "    return  np.mean(y_true - y_pred)"
   ]
  },
  {
   "cell_type": "code",
   "execution_count": 4,
   "id": "f8990024",
   "metadata": {},
   "outputs": [],
   "source": [
    "TARGET = 'farmgate_milk_price'"
   ]
  },
  {
   "cell_type": "markdown",
   "id": "b03bce0e",
   "metadata": {},
   "source": [
    "## Data Reading"
   ]
  },
  {
   "cell_type": "code",
   "execution_count": 5,
   "id": "d98ecfda",
   "metadata": {},
   "outputs": [],
   "source": [
    "#Reading the data\n",
    "df = pd.read_csv(\"../data/tidy_data.csv\", parse_dates=[0])"
   ]
  },
  {
   "cell_type": "code",
   "execution_count": 6,
   "id": "6b7d0da4",
   "metadata": {},
   "outputs": [
    {
     "data": {
      "text/html": [
       "<div>\n",
       "<style scoped>\n",
       "    .dataframe tbody tr th:only-of-type {\n",
       "        vertical-align: middle;\n",
       "    }\n",
       "\n",
       "    .dataframe tbody tr th {\n",
       "        vertical-align: top;\n",
       "    }\n",
       "\n",
       "    .dataframe thead th {\n",
       "        text-align: right;\n",
       "    }\n",
       "</style>\n",
       "<table border=\"1\" class=\"dataframe\">\n",
       "  <thead>\n",
       "    <tr style=\"text-align: right;\">\n",
       "      <th></th>\n",
       "      <th>date</th>\n",
       "      <th>milk_production</th>\n",
       "      <th>imports</th>\n",
       "      <th>exports</th>\n",
       "      <th>total_supply</th>\n",
       "      <th>population</th>\n",
       "      <th>per_capita_supply</th>\n",
       "      <th>unemployment</th>\n",
       "      <th>wage_mass</th>\n",
       "      <th>uht_milk_industry</th>\n",
       "      <th>uht_milk_market</th>\n",
       "      <th>farmgate_milk_price</th>\n",
       "    </tr>\n",
       "  </thead>\n",
       "  <tbody>\n",
       "    <tr>\n",
       "      <th>0</th>\n",
       "      <td>2007-01-01</td>\n",
       "      <td>1629.549</td>\n",
       "      <td>51.486829</td>\n",
       "      <td>37.232129</td>\n",
       "      <td>1643.803700</td>\n",
       "      <td>188.496928</td>\n",
       "      <td>8.720586</td>\n",
       "      <td>NaN</td>\n",
       "      <td>NaN</td>\n",
       "      <td>NaN</td>\n",
       "      <td>1.422492</td>\n",
       "      <td>0.450872</td>\n",
       "    </tr>\n",
       "    <tr>\n",
       "      <th>1</th>\n",
       "      <td>2007-02-01</td>\n",
       "      <td>1405.073</td>\n",
       "      <td>44.565910</td>\n",
       "      <td>39.461382</td>\n",
       "      <td>1410.177528</td>\n",
       "      <td>188.657245</td>\n",
       "      <td>7.474812</td>\n",
       "      <td>NaN</td>\n",
       "      <td>NaN</td>\n",
       "      <td>NaN</td>\n",
       "      <td>1.412007</td>\n",
       "      <td>0.480057</td>\n",
       "    </tr>\n",
       "    <tr>\n",
       "      <th>2</th>\n",
       "      <td>2007-03-01</td>\n",
       "      <td>1444.693</td>\n",
       "      <td>23.326896</td>\n",
       "      <td>40.938828</td>\n",
       "      <td>1427.081068</td>\n",
       "      <td>188.817561</td>\n",
       "      <td>7.557989</td>\n",
       "      <td>NaN</td>\n",
       "      <td>NaN</td>\n",
       "      <td>NaN</td>\n",
       "      <td>1.427207</td>\n",
       "      <td>0.500857</td>\n",
       "    </tr>\n",
       "    <tr>\n",
       "      <th>3</th>\n",
       "      <td>2007-04-01</td>\n",
       "      <td>1333.077</td>\n",
       "      <td>19.810018</td>\n",
       "      <td>33.958065</td>\n",
       "      <td>1318.928953</td>\n",
       "      <td>188.977878</td>\n",
       "      <td>6.979277</td>\n",
       "      <td>NaN</td>\n",
       "      <td>NaN</td>\n",
       "      <td>NaN</td>\n",
       "      <td>1.471410</td>\n",
       "      <td>0.544433</td>\n",
       "    </tr>\n",
       "    <tr>\n",
       "      <th>4</th>\n",
       "      <td>2007-05-01</td>\n",
       "      <td>1359.253</td>\n",
       "      <td>16.034976</td>\n",
       "      <td>45.073625</td>\n",
       "      <td>1330.214351</td>\n",
       "      <td>189.138194</td>\n",
       "      <td>7.033029</td>\n",
       "      <td>NaN</td>\n",
       "      <td>NaN</td>\n",
       "      <td>NaN</td>\n",
       "      <td>1.613760</td>\n",
       "      <td>0.586239</td>\n",
       "    </tr>\n",
       "  </tbody>\n",
       "</table>\n",
       "</div>"
      ],
      "text/plain": [
       "        date  milk_production    imports    exports  total_supply  population  \\\n",
       "0 2007-01-01         1629.549  51.486829  37.232129   1643.803700  188.496928   \n",
       "1 2007-02-01         1405.073  44.565910  39.461382   1410.177528  188.657245   \n",
       "2 2007-03-01         1444.693  23.326896  40.938828   1427.081068  188.817561   \n",
       "3 2007-04-01         1333.077  19.810018  33.958065   1318.928953  188.977878   \n",
       "4 2007-05-01         1359.253  16.034976  45.073625   1330.214351  189.138194   \n",
       "\n",
       "   per_capita_supply  unemployment  wage_mass  uht_milk_industry  \\\n",
       "0           8.720586           NaN        NaN                NaN   \n",
       "1           7.474812           NaN        NaN                NaN   \n",
       "2           7.557989           NaN        NaN                NaN   \n",
       "3           6.979277           NaN        NaN                NaN   \n",
       "4           7.033029           NaN        NaN                NaN   \n",
       "\n",
       "   uht_milk_market  farmgate_milk_price  \n",
       "0         1.422492             0.450872  \n",
       "1         1.412007             0.480057  \n",
       "2         1.427207             0.500857  \n",
       "3         1.471410             0.544433  \n",
       "4         1.613760             0.586239  "
      ]
     },
     "execution_count": 6,
     "metadata": {},
     "output_type": "execute_result"
    }
   ],
   "source": [
    "df.head()"
   ]
  },
  {
   "cell_type": "markdown",
   "id": "fb3a7f0b",
   "metadata": {},
   "source": [
    "## Data Splitting"
   ]
  },
  {
   "cell_type": "code",
   "execution_count": 7,
   "id": "d96b12a8",
   "metadata": {},
   "outputs": [
    {
     "name": "stdout",
     "output_type": "stream",
     "text": [
      "Train shape: (204, 12)\n",
      "Validation shape: (12, 12)\n",
      "Train period: 2007-01-01 00:00:00 to 2023-12-01 00:00:00\n",
      "Validation period: 2024-01-01 00:00:00 to 2024-12-01 00:00:00\n"
     ]
    }
   ],
   "source": [
    "## Ensure df is sorted by date\n",
    "df = df.sort_values('date')\n",
    "\n",
    "# Split last 12 months for validation\n",
    "train = df.iloc[:-12].copy()\n",
    "valid = df.iloc[-12:].copy()\n",
    "\n",
    "X_valid = valid.drop(columns=TARGET) \n",
    "y_valid = valid[TARGET]\n",
    "\n",
    "print(f\"Train shape: {train.shape}\")\n",
    "print(f\"Validation shape: {valid.shape}\")\n",
    "print(f\"Train period: {train['date'].min()} to {train['date'].max()}\")\n",
    "print(f\"Validation period: {valid['date'].min()} to {valid['date'].max()}\")"
   ]
  },
  {
   "cell_type": "markdown",
   "id": "2766cd5c",
   "metadata": {},
   "source": [
    "## Defining the Model"
   ]
  },
  {
   "cell_type": "code",
   "execution_count": 8,
   "id": "904e0c28",
   "metadata": {},
   "outputs": [],
   "source": [
    "#Linear Regression Model \n",
    "mod = smf.ols(formula='farmgate_milk_price ~ milk_production + total_supply + population + uht_milk_industry + uht_milk_market', data=train) "
   ]
  },
  {
   "cell_type": "code",
   "execution_count": 9,
   "id": "7786c5a5",
   "metadata": {},
   "outputs": [],
   "source": [
    "TARGET = 'farmgate_milk_price'"
   ]
  },
  {
   "cell_type": "markdown",
   "id": "9f1b21d7",
   "metadata": {},
   "source": [
    "### Defining the Predictors (Exogenous Variables)"
   ]
  },
  {
   "cell_type": "code",
   "execution_count": 10,
   "id": "578aeedb",
   "metadata": {},
   "outputs": [],
   "source": [
    "EXOG_VARIABLES = [\n",
    "    \"milk_production\",\n",
    "    \"total_supply\",\n",
    "    \"population\",\n",
    "    \"uht_milk_industry\",\n",
    "    \"uht_milk_market\"\n",
    "]"
   ]
  },
  {
   "cell_type": "markdown",
   "id": "88640012",
   "metadata": {},
   "source": [
    "### Preprocessing the Validation Set"
   ]
  },
  {
   "cell_type": "code",
   "execution_count": 11,
   "id": "3412d4d8",
   "metadata": {},
   "outputs": [],
   "source": [
    "X_valid = X_valid.drop(columns=[col for col in X_valid.columns if col not in EXOG_VARIABLES]) \n",
    "X_valid = sm.add_constant(X_valid)"
   ]
  },
  {
   "cell_type": "markdown",
   "id": "046d06a9",
   "metadata": {},
   "source": [
    "### Model Fitting"
   ]
  },
  {
   "cell_type": "code",
   "execution_count": 12,
   "id": "0f1c5f40",
   "metadata": {},
   "outputs": [
    {
     "data": {
      "text/html": [
       "<table class=\"simpletable\">\n",
       "<caption>OLS Regression Results</caption>\n",
       "<tr>\n",
       "  <th>Dep. Variable:</th>    <td>farmgate_milk_price</td> <th>  R-squared:         </th> <td>   0.963</td>\n",
       "</tr>\n",
       "<tr>\n",
       "  <th>Model:</th>                    <td>OLS</td>         <th>  Adj. R-squared:    </th> <td>   0.961</td>\n",
       "</tr>\n",
       "<tr>\n",
       "  <th>Method:</th>              <td>Least Squares</td>    <th>  F-statistic:       </th> <td>   551.6</td>\n",
       "</tr>\n",
       "<tr>\n",
       "  <th>Date:</th>              <td>Sun, 21 Sep 2025</td>   <th>  Prob (F-statistic):</th> <td>1.19e-74</td>\n",
       "</tr>\n",
       "<tr>\n",
       "  <th>Time:</th>                  <td>17:16:55</td>       <th>  Log-Likelihood:    </th> <td>  77.412</td>\n",
       "</tr>\n",
       "<tr>\n",
       "  <th>No. Observations:</th>       <td>   113</td>        <th>  AIC:               </th> <td>  -142.8</td>\n",
       "</tr>\n",
       "<tr>\n",
       "  <th>Df Residuals:</th>           <td>   107</td>        <th>  BIC:               </th> <td>  -126.5</td>\n",
       "</tr>\n",
       "<tr>\n",
       "  <th>Df Model:</th>               <td>     5</td>        <th>                     </th>     <td> </td>   \n",
       "</tr>\n",
       "<tr>\n",
       "  <th>Covariance Type:</th>       <td>nonrobust</td>      <th>                     </th>     <td> </td>   \n",
       "</tr>\n",
       "</table>\n",
       "<table class=\"simpletable\">\n",
       "<tr>\n",
       "          <td></td>             <th>coef</th>     <th>std err</th>      <th>t</th>      <th>P>|t|</th>  <th>[0.025</th>    <th>0.975]</th>  \n",
       "</tr>\n",
       "<tr>\n",
       "  <th>Intercept</th>         <td>  -11.9356</td> <td>    1.165</td> <td>  -10.242</td> <td> 0.000</td> <td>  -14.246</td> <td>   -9.625</td>\n",
       "</tr>\n",
       "<tr>\n",
       "  <th>milk_production</th>   <td>    0.0010</td> <td>    0.000</td> <td>    3.186</td> <td> 0.002</td> <td>    0.000</td> <td>    0.002</td>\n",
       "</tr>\n",
       "<tr>\n",
       "  <th>total_supply</th>      <td>   -0.0009</td> <td>    0.000</td> <td>   -2.871</td> <td> 0.005</td> <td>   -0.001</td> <td>   -0.000</td>\n",
       "</tr>\n",
       "<tr>\n",
       "  <th>population</th>        <td>    0.0564</td> <td>    0.006</td> <td>    9.026</td> <td> 0.000</td> <td>    0.044</td> <td>    0.069</td>\n",
       "</tr>\n",
       "<tr>\n",
       "  <th>uht_milk_industry</th> <td>    0.2981</td> <td>    0.047</td> <td>    6.353</td> <td> 0.000</td> <td>    0.205</td> <td>    0.391</td>\n",
       "</tr>\n",
       "<tr>\n",
       "  <th>uht_milk_market</th>   <td>    0.2491</td> <td>    0.048</td> <td>    5.211</td> <td> 0.000</td> <td>    0.154</td> <td>    0.344</td>\n",
       "</tr>\n",
       "</table>\n",
       "<table class=\"simpletable\">\n",
       "<tr>\n",
       "  <th>Omnibus:</th>       <td> 6.950</td> <th>  Durbin-Watson:     </th> <td>   0.374</td>\n",
       "</tr>\n",
       "<tr>\n",
       "  <th>Prob(Omnibus):</th> <td> 0.031</td> <th>  Jarque-Bera (JB):  </th> <td>   6.819</td>\n",
       "</tr>\n",
       "<tr>\n",
       "  <th>Skew:</th>          <td>-0.599</td> <th>  Prob(JB):          </th> <td>  0.0331</td>\n",
       "</tr>\n",
       "<tr>\n",
       "  <th>Kurtosis:</th>      <td> 3.108</td> <th>  Cond. No.          </th> <td>2.94e+05</td>\n",
       "</tr>\n",
       "</table><br/><br/>Notes:<br/>[1] Standard Errors assume that the covariance matrix of the errors is correctly specified.<br/>[2] The condition number is large, 2.94e+05. This might indicate that there are<br/>strong multicollinearity or other numerical problems."
      ],
      "text/latex": [
       "\\begin{center}\n",
       "\\begin{tabular}{lclc}\n",
       "\\toprule\n",
       "\\textbf{Dep. Variable:}      & farmgate\\_milk\\_price & \\textbf{  R-squared:         } &     0.963   \\\\\n",
       "\\textbf{Model:}              &          OLS          & \\textbf{  Adj. R-squared:    } &     0.961   \\\\\n",
       "\\textbf{Method:}             &     Least Squares     & \\textbf{  F-statistic:       } &     551.6   \\\\\n",
       "\\textbf{Date:}               &    Sun, 21 Sep 2025   & \\textbf{  Prob (F-statistic):} &  1.19e-74   \\\\\n",
       "\\textbf{Time:}               &        17:16:55       & \\textbf{  Log-Likelihood:    } &    77.412   \\\\\n",
       "\\textbf{No. Observations:}   &            113        & \\textbf{  AIC:               } &    -142.8   \\\\\n",
       "\\textbf{Df Residuals:}       &            107        & \\textbf{  BIC:               } &    -126.5   \\\\\n",
       "\\textbf{Df Model:}           &              5        & \\textbf{                     } &             \\\\\n",
       "\\textbf{Covariance Type:}    &       nonrobust       & \\textbf{                     } &             \\\\\n",
       "\\bottomrule\n",
       "\\end{tabular}\n",
       "\\begin{tabular}{lcccccc}\n",
       "                             & \\textbf{coef} & \\textbf{std err} & \\textbf{t} & \\textbf{P$> |$t$|$} & \\textbf{[0.025} & \\textbf{0.975]}  \\\\\n",
       "\\midrule\n",
       "\\textbf{Intercept}           &     -11.9356  &        1.165     &   -10.242  &         0.000        &      -14.246    &       -9.625     \\\\\n",
       "\\textbf{milk\\_production}    &       0.0010  &        0.000     &     3.186  &         0.002        &        0.000    &        0.002     \\\\\n",
       "\\textbf{total\\_supply}       &      -0.0009  &        0.000     &    -2.871  &         0.005        &       -0.001    &       -0.000     \\\\\n",
       "\\textbf{population}          &       0.0564  &        0.006     &     9.026  &         0.000        &        0.044    &        0.069     \\\\\n",
       "\\textbf{uht\\_milk\\_industry} &       0.2981  &        0.047     &     6.353  &         0.000        &        0.205    &        0.391     \\\\\n",
       "\\textbf{uht\\_milk\\_market}   &       0.2491  &        0.048     &     5.211  &         0.000        &        0.154    &        0.344     \\\\\n",
       "\\bottomrule\n",
       "\\end{tabular}\n",
       "\\begin{tabular}{lclc}\n",
       "\\textbf{Omnibus:}       &  6.950 & \\textbf{  Durbin-Watson:     } &    0.374  \\\\\n",
       "\\textbf{Prob(Omnibus):} &  0.031 & \\textbf{  Jarque-Bera (JB):  } &    6.819  \\\\\n",
       "\\textbf{Skew:}          & -0.599 & \\textbf{  Prob(JB):          } &   0.0331  \\\\\n",
       "\\textbf{Kurtosis:}      &  3.108 & \\textbf{  Cond. No.          } & 2.94e+05  \\\\\n",
       "\\bottomrule\n",
       "\\end{tabular}\n",
       "%\\caption{OLS Regression Results}\n",
       "\\end{center}\n",
       "\n",
       "Notes: \\newline\n",
       " [1] Standard Errors assume that the covariance matrix of the errors is correctly specified. \\newline\n",
       " [2] The condition number is large, 2.94e+05. This might indicate that there are \\newline\n",
       " strong multicollinearity or other numerical problems."
      ],
      "text/plain": [
       "<class 'statsmodels.iolib.summary.Summary'>\n",
       "\"\"\"\n",
       "                             OLS Regression Results                            \n",
       "===============================================================================\n",
       "Dep. Variable:     farmgate_milk_price   R-squared:                       0.963\n",
       "Model:                             OLS   Adj. R-squared:                  0.961\n",
       "Method:                  Least Squares   F-statistic:                     551.6\n",
       "Date:                 Sun, 21 Sep 2025   Prob (F-statistic):           1.19e-74\n",
       "Time:                         17:16:55   Log-Likelihood:                 77.412\n",
       "No. Observations:                  113   AIC:                            -142.8\n",
       "Df Residuals:                      107   BIC:                            -126.5\n",
       "Df Model:                            5                                         \n",
       "Covariance Type:             nonrobust                                         \n",
       "=====================================================================================\n",
       "                        coef    std err          t      P>|t|      [0.025      0.975]\n",
       "-------------------------------------------------------------------------------------\n",
       "Intercept           -11.9356      1.165    -10.242      0.000     -14.246      -9.625\n",
       "milk_production       0.0010      0.000      3.186      0.002       0.000       0.002\n",
       "total_supply         -0.0009      0.000     -2.871      0.005      -0.001      -0.000\n",
       "population            0.0564      0.006      9.026      0.000       0.044       0.069\n",
       "uht_milk_industry     0.2981      0.047      6.353      0.000       0.205       0.391\n",
       "uht_milk_market       0.2491      0.048      5.211      0.000       0.154       0.344\n",
       "==============================================================================\n",
       "Omnibus:                        6.950   Durbin-Watson:                   0.374\n",
       "Prob(Omnibus):                  0.031   Jarque-Bera (JB):                6.819\n",
       "Skew:                          -0.599   Prob(JB):                       0.0331\n",
       "Kurtosis:                       3.108   Cond. No.                     2.94e+05\n",
       "==============================================================================\n",
       "\n",
       "Notes:\n",
       "[1] Standard Errors assume that the covariance matrix of the errors is correctly specified.\n",
       "[2] The condition number is large, 2.94e+05. This might indicate that there are\n",
       "strong multicollinearity or other numerical problems.\n",
       "\"\"\""
      ]
     },
     "execution_count": 12,
     "metadata": {},
     "output_type": "execute_result"
    }
   ],
   "source": [
    "res = mod.fit()\n",
    "res.summary()"
   ]
  },
  {
   "cell_type": "markdown",
   "id": "308d24c2",
   "metadata": {},
   "source": [
    "### Residual Analysis"
   ]
  },
  {
   "cell_type": "markdown",
   "id": "a392d208",
   "metadata": {},
   "source": [
    "## Prediction on Validation Set"
   ]
  },
  {
   "cell_type": "code",
   "execution_count": 13,
   "id": "d8079ea9",
   "metadata": {},
   "outputs": [
    {
     "data": {
      "text/plain": [
       "204    2.364399\n",
       "205    2.474582\n",
       "206    2.552899\n",
       "207    2.570694\n",
       "208    2.887171\n",
       "209    2.824006\n",
       "210    2.736747\n",
       "211    2.815190\n",
       "212    2.969051\n",
       "213    2.863830\n",
       "214    2.741258\n",
       "215    2.672191\n",
       "dtype: float64"
      ]
     },
     "execution_count": 13,
     "metadata": {},
     "output_type": "execute_result"
    }
   ],
   "source": [
    "y_pred = res.predict(X_valid)\n",
    "y_pred"
   ]
  },
  {
   "cell_type": "markdown",
   "id": "54725ff1",
   "metadata": {},
   "source": [
    "## Model Evaluation"
   ]
  },
  {
   "cell_type": "code",
   "execution_count": 14,
   "id": "154d6cb3",
   "metadata": {},
   "outputs": [],
   "source": [
    "bias_ = bias(y_pred, y_valid) \n",
    "rmse_ = rmse(y_valid, y_pred)"
   ]
  },
  {
   "cell_type": "code",
   "execution_count": 15,
   "id": "ad24c199",
   "metadata": {},
   "outputs": [
    {
     "name": "stdout",
     "output_type": "stream",
     "text": [
      "Bias: 0.12324326507462761\n",
      "RMSE: 0.14305689346300618\n"
     ]
    }
   ],
   "source": [
    "print(\"Bias:\", bias_)\n",
    "print(\"RMSE:\", rmse_)"
   ]
  },
  {
   "cell_type": "markdown",
   "id": "932abd56",
   "metadata": {},
   "source": [
    "## Visualizing Predictions"
   ]
  },
  {
   "cell_type": "code",
   "execution_count": 16,
   "id": "0f2f3f67",
   "metadata": {},
   "outputs": [],
   "source": [
    "dates = valid['date'] \n",
    "\n",
    "df_valid_preds = pd.DataFrame(\n",
    "    data={\n",
    "        \"date\":dates,\n",
    "        \"y_valid\": y_valid,\n",
    "        \"y_pred\": y_pred\n",
    "    }\n",
    ")"
   ]
  },
  {
   "cell_type": "code",
   "execution_count": 17,
   "id": "6e085772",
   "metadata": {},
   "outputs": [
    {
     "data": {
      "image/png": "[encoded data removed]"
     },
     "metadata": {
      "image/png": {
       "height": 480,
       "width": 640
      }
     },
     "output_type": "display_data"
    }
   ],
   "source": [
    "df_valid_preds_plot = df_valid_preds.copy() \n",
    "\n",
    "df_long = pd.melt(\n",
    "    df_valid_preds_plot,\n",
    "    id_vars=['date'],\n",
    "    value_vars=['y_valid', 'y_pred'],\n",
    "    var_name=\"Type\",\n",
    "    value_name=\"Value\"\n",
    ")\n",
    "\n",
    "p = (\n",
    "    ggplot(df_long, aes(x=\"date\", y=\"Value\", color=\"Type\"))\n",
    "    + geom_line(size=1.2)\n",
    "    + theme_bw()\n",
    "    + labs(x=\"Date\", y=\"Farmgate Milk Price\", title=\"Validation: True vs Predicted - Linear Regression\")\n",
    ")\n",
    "set_option(\"figure_size\", (12, 6))\n",
    "\n",
    "p"
   ]
  }
 ],
 "metadata": {
  "kernelspec": {
   "display_name": "milk-prediction",
   "language": "python",
   "name": "python3"
  },
  "language_info": {
   "codemirror_mode": {
    "name": "ipython",
    "version": 3
   },
   "file_extension": ".py",
   "mimetype": "text/x-python",
   "name": "python",
   "nbconvert_exporter": "python",
   "pygments_lexer": "ipython3",
   "version": "3.13.3"
  }
 },
 "nbformat": 4,
 "nbformat_minor": 5
}
